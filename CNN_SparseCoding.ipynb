{
  "nbformat": 4,
  "nbformat_minor": 0,
  "metadata": {
    "kernelspec": {
      "name": "python3",
      "display_name": "Python 3"
    },
    "language_info": {
      "codemirror_mode": {
        "name": "ipython",
        "version": 3
      },
      "file_extension": ".py",
      "mimetype": "text/x-python",
      "name": "python",
      "nbconvert_exporter": "python",
      "pygments_lexer": "ipython3",
      "version": "3.6.6"
    },
    "colab": {
      "name": "CNN-SparseCoding.ipynb",
      "provenance": [],
      "collapsed_sections": [],
      "include_colab_link": true
    },
    "accelerator": "GPU"
  },
  "cells": [
    {
      "cell_type": "markdown",
      "metadata": {
        "id": "view-in-github",
        "colab_type": "text"
      },
      "source": [
        "<a href=\"https://colab.research.google.com/github/tansyab1/CNN-Sparse/blob/master/CNN_SparseCoding.ipynb\" target=\"_parent\"><img src=\"https://colab.research.google.com/assets/colab-badge.svg\" alt=\"Open In Colab\"/></a>"
      ]
    },
    {
      "cell_type": "code",
      "metadata": {
        "id": "oUrdoRl9jUx6",
        "colab_type": "code",
        "outputId": "fc5f0fa6-62d6-4ebf-941f-5e962e2acbbc",
        "colab": {
          "base_uri": "https://localhost:8080/",
          "height": 34
        }
      },
      "source": [
        "from google.colab import drive\n",
        "drive.mount('/content/drive')"
      ],
      "execution_count": 0,
      "outputs": [
        {
          "output_type": "stream",
          "text": [
            "Drive already mounted at /content/drive; to attempt to forcibly remount, call drive.mount(\"/content/drive\", force_remount=True).\n"
          ],
          "name": "stdout"
        }
      ]
    },
    {
      "cell_type": "code",
      "metadata": {
        "id": "eqHUFVQkgkd3",
        "colab_type": "code",
        "outputId": "b2451bc4-b80a-414a-ca22-7c9e91763a24",
        "colab": {
          "base_uri": "https://localhost:8080/",
          "height": 63
        }
      },
      "source": [
        "import tensorflow as tf\n",
        "import numpy as np\n",
        "from tensorflow.contrib import layers\n",
        "import scipy.io as sio\n",
        "import argparse\n",
        "import random"
      ],
      "execution_count": 0,
      "outputs": [
        {
          "output_type": "display_data",
          "data": {
            "text/html": [
              "<p style=\"color: red;\">\n",
              "The default version of TensorFlow in Colab will soon switch to TensorFlow 2.x.<br>\n",
              "We recommend you <a href=\"https://www.tensorflow.org/guide/migrate\" target=\"_blank\">upgrade</a> now \n",
              "or ensure your notebook will continue to use TensorFlow 1.x via the <code>%tensorflow_version 1.x</code> magic:\n",
              "<a href=\"https://colab.research.google.com/notebooks/tensorflow_version.ipynb\" target=\"_blank\">more info</a>.</p>\n"
            ],
            "text/plain": [
              "<IPython.core.display.HTML object>"
            ]
          },
          "metadata": {
            "tags": []
          }
        }
      ]
    },
    {
      "cell_type": "code",
      "metadata": {
        "id": "LfGtQeMRgkeZ",
        "colab_type": "code",
        "colab": {}
      },
      "source": [
        "class ConvAE(object):\n",
        "    def __init__(self, n_input, kernel_size, n_hidden, reg_constant1=1.0, re_constant2=1.0, batch_size=200, train_size=100,reg=None, \\\n",
        "                 denoise=False, model_path=None, restore_path=None, \\\n",
        "                 logs_path='./logs'):\n",
        "        self.n_input = n_input\n",
        "        self.kernel_size = kernel_size\n",
        "        self.n_hidden = n_hidden\n",
        "        self.batch_size = batch_size\n",
        "        self.train_size = train_size\n",
        "        self.test_size = batch_size - train_size\n",
        "        self.reg = reg\n",
        "        self.model_path = model_path\n",
        "        self.restore_path = restore_path\n",
        "        self.iter = 0\n",
        "        \n",
        "        tf.set_random_seed(2019)\n",
        "        weights = self._initialize_weights()\n",
        "\n",
        "        # input required to be fed\n",
        "        \n",
        "        self.train = tf.placeholder(tf.float32, [None, self.n_input[0], self.n_input[1], 1])\n",
        "        self.test = tf.placeholder(tf.float32, [None, self.n_input[0], self.n_input[1], 1])\n",
        "        self.learning_rate = tf.placeholder(tf.float32, [],name='learningRate')\n",
        "\n",
        "\n",
        "        self.x = tf.concat([self.train, self.test], axis=0) #Concat testing and training samples\n",
        "\n",
        "\n",
        "        latent, latents, shape = self.encoder(self.x, weights)\n",
        "        latent_shape = tf.shape(latent)\n",
        "\n",
        "        # Slice the latent space features to separate training and testing latent features\n",
        "        latent_train =  tf.slice(latent,[0,0,0,0],[self.train_size, latent_shape[1], latent_shape[2], latent_shape[3]])\n",
        "        latent_test =  tf.slice(latent,[self.train_size,0,0,0],[self.test_size, latent_shape[1], latent_shape[2], latent_shape[3]])\n",
        "\n",
        "        # Vectorize the features\n",
        "        z_train = tf.reshape(latent_train, [self.train_size, -1])\n",
        "        z_test = tf.reshape(latent_test, [self.test_size, -1])\n",
        "        z = tf.reshape(latent, [self.batch_size, -1])\n",
        "\n",
        "        Coef = weights['Coef']   # This is \\theta in the paper\n",
        "\n",
        "        z_test_c = tf.matmul(Coef, z_train)\n",
        "        z_c = tf.concat([z_train, z_test_c], axis=0)\n",
        "        latent_c_test = tf.reshape(z_test_c, tf.shape(latent_test)) \n",
        "          \n",
        "        latent_c_pretrain =  tf.concat([latent_train, latent_test], axis=0) # used in pretraining stage\n",
        "        latent_c =  tf.concat([latent_train, latent_c_test], axis=0)        # used in the main model\n",
        "\n",
        "        self.x_r_pretrain = self.decoder(latent_c_pretrain, weights,  shape) # used in pretraining stage\n",
        "        self.x_r = self.decoder(latent_c, weights,  shape)                   # used in the main model            \n",
        "\n",
        "\n",
        "        self.Coef_test = Coef\n",
        "        \n",
        "        self.AE =  tf.concat([z_train, z_test], axis=0) # Autoencoder features to be used in benchmarks comparison\n",
        "\n",
        "\n",
        "        # l_2 reconstruction loss\n",
        "\n",
        "        self.loss_pretrain = tf.reduce_sum(tf.pow(tf.subtract(self.x, self.x_r_pretrain), 2.0))\n",
        "        \n",
        "        self.reconst_cost_x = tf.reduce_sum(tf.pow(tf.subtract(self.x, self.x_r), 2.0))\n",
        "        tf.summary.scalar(\"recons_loss\", self.reconst_cost_x)\n",
        "\n",
        "        self.reg_losses = tf.reduce_sum(tf.pow(Coef, 2.0))\n",
        "        tf.summary.scalar(\"reg_loss\", reg_constant1 * self.reg_losses)\n",
        "\n",
        "        self.selfexpress_losses = 0.5 * tf.reduce_sum(tf.pow(tf.subtract(z_c, z), 2.0))\n",
        "\n",
        "        tf.summary.scalar(\"selfexpress_loss\", re_constant2 * self.selfexpress_losses)\n",
        "\n",
        "        # TOTAL LOSS\n",
        "        self.loss = self.reconst_cost_x + reg_constant1 * self.reg_losses + 0.5 * re_constant2 * self.selfexpress_losses\n",
        "\n",
        "        self.merged_summary_op = tf.summary.merge_all()\n",
        "        self.optimizer = tf.train.AdamOptimizer(learning_rate=self.learning_rate).minimize(\n",
        "            self.loss)  # GradientDescentOptimizer #AdamOptimizer\n",
        "        self.optimizer_pretrain = tf.train.AdamOptimizer(learning_rate=self.learning_rate).minimize(\n",
        "            self.loss_pretrain)  # GradientDescentOptimizer #AdamOptimizer\n",
        "\n",
        "        self.init = tf.global_variables_initializer()\n",
        "        tfconfig = tf.ConfigProto(allow_soft_placement=True)\n",
        "        tfconfig.gpu_options.allow_growth = True\n",
        "        self.sess = tf.InteractiveSession(config=tfconfig)\n",
        "        self.sess.run(self.init)\n",
        "        self.saver = tf.train.Saver([v for v in tf.trainable_variables() if not (v.name.startswith(\"Coef\"))]) # to save the pretrained model\n",
        "        self.summary_writer = tf.summary.FileWriter(logs_path, graph=tf.get_default_graph())\n"
      ],
      "execution_count": 0,
      "outputs": []
    },
    {
      "cell_type": "code",
      "metadata": {
        "id": "pXPovbqegkes",
        "colab_type": "code",
        "colab": {}
      },
      "source": [
        "def _initialize_weights(self):\n",
        "        '''\n",
        "        initializes weights for the model and soters them in a dictionary.\n",
        "        '''\n",
        "        \n",
        "        all_weights = dict()\n",
        "        all_weights['enc_w0'] = tf.get_variable(\"enc_w0\",\n",
        "                                                            shape=[self.kernel_size[0], self.kernel_size[0], 1,\n",
        "                                                                   self.n_hidden[0]],\n",
        "                                                            initializer=layers.xavier_initializer_conv2d())\n",
        "        all_weights['enc1_b0'] = tf.Variable(tf.zeros([self.n_hidden[0]], dtype=tf.float32))\n",
        "\n",
        "        all_weights['enc_b0'] = tf.Variable(tf.zeros([self.n_hidden[0]], dtype=tf.float32))\n",
        "\n",
        "        all_weights['enc_w1'] = tf.get_variable(\"enc_w1\",\n",
        "                                                            shape=[self.kernel_size[1], self.kernel_size[1],\n",
        "                                                                   self.n_hidden[0],\n",
        "                                                                   self.n_hidden[1]],\n",
        "                                                            initializer=layers.xavier_initializer_conv2d())\n",
        "        all_weights['enc_b1'] = tf.Variable(tf.zeros([self.n_hidden[1]], dtype=tf.float32))\n",
        "\n",
        "        all_weights['enc_w2'] = tf.get_variable(\"enc_w2\",\n",
        "                                                            shape=[self.kernel_size[2], self.kernel_size[2],\n",
        "                                                                   self.n_hidden[1],\n",
        "                                                                   self.n_hidden[2]],\n",
        "                                                            initializer=layers.xavier_initializer_conv2d())\n",
        "        all_weights['enc_b2'] = tf.Variable(tf.zeros([self.n_hidden[2]], dtype=tf.float32))\n",
        "\n",
        "        all_weights['dec_w0'] = tf.get_variable(\"dec1_w0\",\n",
        "                                                            shape=[self.kernel_size[2], self.kernel_size[2],\n",
        "                                                                   self.n_hidden[1],\n",
        "                                                                   self.n_hidden[3]],\n",
        "                                                            initializer=layers.xavier_initializer_conv2d())\n",
        "        all_weights['dec_b0'] = tf.Variable(tf.zeros([self.n_hidden[1]], dtype=tf.float32))\n",
        "\n",
        "        all_weights['dec_w1'] = tf.get_variable(\"dec1_w1\",\n",
        "                                                            shape=[self.kernel_size[1], self.kernel_size[1],\n",
        "                                                                   self.n_hidden[0],\n",
        "                                                                   self.n_hidden[1]],\n",
        "                                                            initializer=layers.xavier_initializer_conv2d())\n",
        "        all_weights['dec_b1'] = tf.Variable(tf.zeros([self.n_hidden[0]], dtype=tf.float32))\n",
        "\n",
        "        all_weights['dec_w2'] = tf.get_variable(\"dec1_w2\",\n",
        "                                                            shape=[self.kernel_size[0], self.kernel_size[0], 1,\n",
        "                                                                   self.n_hidden[0]],\n",
        "                                                            initializer=layers.xavier_initializer_conv2d())\n",
        "        all_weights['dec_b2'] = tf.Variable(tf.zeros([1], dtype=tf.float32))\n",
        "\n",
        "        all_weights['enc_w3'] = tf.get_variable(\"enc_w3\",\n",
        "                                                shape=[self.kernel_size[3], self.kernel_size[3],\n",
        "                                                       self.n_hidden[2],\n",
        "                                                       self.n_hidden[3]],\n",
        "                                                initializer=layers.xavier_initializer_conv2d())\n",
        "        all_weights['enc_b3'] = tf.Variable(tf.zeros([self.n_hidden[3]], dtype=tf.float32))\n",
        "\n",
        "        all_weights['Coef'] = tf.Variable(1.0e-4 * tf.ones([self.test_size, self.train_size], tf.float32), name='Coef')\n",
        "\n",
        "        return all_weights"
      ],
      "execution_count": 0,
      "outputs": []
    },
    {
      "cell_type": "code",
      "metadata": {
        "id": "0NKEuBgQgkfH",
        "colab_type": "code",
        "colab": {}
      },
      "source": [
        "# Building the encoder\n",
        "    def encoder(self, X, weights):\n",
        "        shapes = []\n",
        "        # Encoder Hidden layer with relu activation #1\n",
        "        shapes.append(X.get_shape().as_list())\n",
        "\n",
        "        layer1 = tf.nn.bias_add(\n",
        "            tf.nn.conv2d(X, weights['enc_w0'], strides=[1, 2, 2, 1], padding='SAME'),\n",
        "            weights['enc_b0'])\n",
        "        layer1 = tf.nn.relu(layer1)\n",
        "        layer2 = tf.nn.bias_add(\n",
        "            tf.nn.conv2d(layer1, weights['enc_w1'], strides=[1, 1, 1, 1], padding='SAME'),\n",
        "            weights['enc_b1'])\n",
        "        layer2 = tf.nn.relu(layer2)\n",
        "        layer3 = tf.nn.bias_add(\n",
        "            tf.nn.conv2d(layer2, weights['enc_w2'], strides=[1, 2, 2, 1], padding='SAME'),\n",
        "            weights['enc_b2'])\n",
        "        layer3 = tf.nn.relu(layer3)\n",
        "        latents = layer3\n",
        "        print(layer3.shape)\n",
        " \n",
        "        shapes.append(layer1.get_shape().as_list())\n",
        "        shapes.append(layer2.get_shape().as_list())\n",
        "        layer3_in = layer3\n",
        "\n",
        "        latent = tf.nn.conv2d(layer3_in, weights['enc_w3'], strides=[1, 1, 1, 1], padding='SAME')\n",
        "        latent = tf.nn.relu(latent)\n",
        "        shapes.append(latent.get_shape().as_list())\n",
        "\n",
        "        return latent, latents, shapes\n"
      ],
      "execution_count": 0,
      "outputs": []
    },
    {
      "cell_type": "code",
      "metadata": {
        "id": "VUq--TDjgkfi",
        "colab_type": "code",
        "colab": {}
      },
      "source": [
        "# Building the decoder\n",
        "    def decoder(self, z, weights, shapes):\n",
        "        # Encoder Hidden layer with relu activation #1\n",
        "        shape_de1 = shapes[2]\n",
        "        layer1 = tf.add(tf.nn.conv2d_transpose(z, weights['dec_w0'], tf.stack(\n",
        "            [tf.shape(self.x)[0], shape_de1[1], shape_de1[2], shape_de1[3]]), \\\n",
        "                                               strides=[1, 2, 2, 1], padding='SAME'), weights['dec_b0'])\n",
        "        layer1 = tf.nn.relu(layer1)\n",
        "        shape_de2 = shapes[1]\n",
        "        layer2 = tf.add(tf.nn.conv2d_transpose(layer1, weights['dec_w1'], tf.stack(\n",
        "            [tf.shape(self.x)[0], shape_de2[1], shape_de2[2], shape_de2[3]]), \\\n",
        "                                               strides=[1, 1, 1, 1], padding='SAME'), weights['dec_b1'])\n",
        "        layer2 = tf.nn.relu(layer2)\n",
        "        shape_de3 = shapes[0]\n",
        "        layer3 = tf.add(tf.nn.conv2d_transpose(layer2, weights['dec_w2'], tf.stack(\n",
        "            [tf.shape(self.x)[0], shape_de3[1], shape_de3[2], shape_de3[3]]), \\\n",
        "                                               strides=[1, 2, 2, 1], padding='SAME'), weights['dec_b2'])\n",
        "        layer3 = tf.nn.relu(layer3)\n",
        "        recons = layer3\n",
        "\n",
        "        return recons\n"
      ],
      "execution_count": 0,
      "outputs": []
    },
    {
      "cell_type": "code",
      "metadata": {
        "id": "Q7b0Km6Fgkfx",
        "colab_type": "code",
        "colab": {}
      },
      "source": [
        " def partial_fit(self, X,Y, lr):\n",
        "        cost, summary, _, Coef = self.sess.run(\n",
        "            (self.reconst_cost_x, self.merged_summary_op, self.optimizer, self.Coef_test), feed_dict={self.learning_rate:lr,self.train:Y,self.test:X})\n",
        "        self.summary_writer.add_summary(summary, self.iter)\n",
        "        self.iter = self.iter + 1\n",
        "        return cost, Coef"
      ],
      "execution_count": 0,
      "outputs": []
    },
    {
      "cell_type": "code",
      "metadata": {
        "id": "Cd28-Ehegkgj",
        "colab_type": "code",
        "colab": {}
      },
      "source": [
        "def pretrain_step(self, X,Y, lr):\n",
        "        cost, summary, _ = self.sess.run(\n",
        "            (self.reconst_cost_x, self.merged_summary_op, self.optimizer_pretrain), feed_dict={self.learning_rate:lr,self.train:Y,self.test:X})\n",
        "        self.summary_writer.add_summary(summary, self.iter)\n",
        "        self.iter = self.iter + 1\n",
        "        return cost"
      ],
      "execution_count": 0,
      "outputs": []
    },
    {
      "cell_type": "code",
      "metadata": {
        "id": "k8Jb3TRrgkg8",
        "colab_type": "code",
        "colab": {}
      },
      "source": [
        " def initlization(self):\n",
        "        self.sess.run(self.init)"
      ],
      "execution_count": 0,
      "outputs": []
    },
    {
      "cell_type": "code",
      "metadata": {
        "id": "Cj2qM7zsgkhK",
        "colab_type": "code",
        "colab": {}
      },
      "source": [
        " def reconstruct(self, X):\n",
        "        return self.sess.run(self.x_r, feed_dict={self.x:X})"
      ],
      "execution_count": 0,
      "outputs": []
    },
    {
      "cell_type": "code",
      "metadata": {
        "id": "PhjpRVp8gkhT",
        "colab_type": "code",
        "colab": {}
      },
      "source": [
        " def transform(self,  X,Y):\n",
        "        return self.sess.run(self.AE, feed_dict={self.train:Y,self.test:X})"
      ],
      "execution_count": 0,
      "outputs": []
    },
    {
      "cell_type": "code",
      "metadata": {
        "id": "DfepKgKzgkik",
        "colab_type": "code",
        "colab": {}
      },
      "source": [
        "def save_model(self):\n",
        "        save_path = self.saver.save(self.sess, self.model_path)\n",
        "        print (\"model saved in file: %s\" % save_path)"
      ],
      "execution_count": 0,
      "outputs": []
    },
    {
      "cell_type": "code",
      "metadata": {
        "id": "TWNiCZM8gkiv",
        "colab_type": "code",
        "colab": {}
      },
      "source": [
        "def restore(self):\n",
        "        self.saver.restore(self.sess, self.restore_path)\n",
        "        print (\"model restored\")"
      ],
      "execution_count": 0,
      "outputs": []
    },
    {
      "cell_type": "code",
      "metadata": {
        "id": "Z20Pl-Qtgki_",
        "colab_type": "code",
        "colab": {}
      },
      "source": [
        "def thrC(C, ro=0.1):\n",
        "    if ro < 1:\n",
        "        N1 = C.shape[0]\n",
        "        N2 = C.shape[1]\n",
        "        Cp = np.zeros((N1, N2))\n",
        "        S = np.abs(np.sort(-np.abs(C), axis=0))\n",
        "        Ind = np.argsort(-np.abs(C), axis=0)\n",
        "        for i in range(N2):\n",
        "            cL1 = np.sum(S[:, i]).astype(float)\n",
        "            stop = False\n",
        "            csum = 0\n",
        "            t = 0\n",
        "            while (stop == False):\n",
        "                csum = csum + S[t, i]\n",
        "                if csum > ro * cL1:\n",
        "                    stop = True\n",
        "                    Cp[Ind[0:t + 1, i], i] = C[Ind[0:t + 1, i], i]\n",
        "                t = t + 1\n",
        "    else:\n",
        "        Cp = C\n",
        "\n",
        "    return Cp"
      ],
      "execution_count": 0,
      "outputs": []
    },
    {
      "cell_type": "code",
      "metadata": {
        "id": "yWMmbY-FgkjJ",
        "colab_type": "code",
        "colab": {}
      },
      "source": [
        "def err_rate(gt_s, s):\n",
        "    err_x = np.sum(gt_s[:] != s[:])\n",
        "    missrate = err_x.astype(float) / (gt_s.shape[0])\n",
        "    return missrate"
      ],
      "execution_count": 0,
      "outputs": []
    },
    {
      "cell_type": "code",
      "metadata": {
        "id": "lO1bBu0Xgkjn",
        "colab_type": "code",
        "colab": {}
      },
      "source": [
        "def testing(Img_test,Img_train, train_labels,test_labels, CAE, num_class,args):\n",
        "\n",
        "    Img_test = np.array(Img_test)\n",
        "    Img_test = Img_test.astype(float)\n",
        "    Img_train = np.array(Img_train)\n",
        "    Img_train = Img_train.astype(float)\n",
        "\n",
        "    train_labels = np.array(train_labels[:])\n",
        "    train_labels = train_labels - train_labels.min() + 1\n",
        "    train_labels = np.squeeze(train_labels)\n",
        "\n",
        "    test_labels = np.array(test_labels[:])\n",
        "    test_labels = test_labels - test_labels.min() + 1\n",
        "    test_labels = np.squeeze(test_labels)\n",
        "\n",
        "    CAE.initlization()\n",
        "    max_step = args.max_step  # 500 + num_class*25# 100+num_class*20\n",
        "    pretrain_max_step = args.pretrain_step\n",
        "    display_step = args.display_step #max_step\n",
        "    lr = 1.0e-3\n",
        "    \n",
        "    epoch = 0\n",
        "    class_ = np.zeros(np.max(test_labels))\n",
        "    prediction = np.zeros(len(test_labels))\n",
        "    ACC =[]\n",
        "    Cost=[]\n",
        "    \n",
        "    while epoch < pretrain_max_step:\n",
        "        epoch = epoch + 1\n",
        "        cost = CAE.pretrain_step(Img_test,Img_train, lr)  #\n",
        "\n",
        "        if epoch % display_step == 0:\n",
        "            print (\"pretrtain epoch: %.1d\" % epoch, \"cost: %.8f\" % (cost / float(batch_size)))   \n",
        "    \n",
        "    while epoch < max_step:\n",
        "        epoch = epoch + 1\n",
        "        cost, Coef = CAE.partial_fit(Img_test,Img_train, lr)  #\n",
        "\n",
        "        if epoch % display_step == 0:\n",
        "            print (\"epoch: %.1d\" % epoch, \"cost: %.8f\" % (cost / float(batch_size)))   \n",
        "            Coef = thrC(Coef)\n",
        "            Coef= np.abs(Coef)\n",
        "            for test_sample in range(0,len(test_labels)):\n",
        "                x = Coef[test_sample,:]\n",
        "                for l in range(1,np.max(test_labels)+1):\n",
        "                    l_idx = np.array([j for j in range(0,len(train_labels)) if train_labels[j]==l])\n",
        "                    l_idx= l_idx.astype(int)\n",
        "                    class_[int(l-1)] = sum(np.abs(x[l_idx]))\n",
        "                prediction[test_sample] = np.argmax(class_) +1\n",
        "\n",
        "            prediction = np.array(prediction)\n",
        "            missrate_x = err_rate(test_labels, prediction)\n",
        "            acc_x = 1 - missrate_x\n",
        "            print(\"accuracy: %.4f\" % acc_x)\n",
        "            ACC.append(acc_x)\n",
        "            Cost.append(cost / float(batch_size))\n",
        "    if False: # change to ture to save values in a mat file\n",
        "        sio.savemat('./coef.mat', dict(ACC=ACC,Coef=Coef,Cost=Cost))\n",
        "\n",
        "    return acc_x, Coef\n"
      ],
      "execution_count": 0,
      "outputs": []
    },
    {
      "cell_type": "code",
      "metadata": {
        "id": "QTFGi_VigkkL",
        "colab_type": "code",
        "colab": {}
      },
      "source": [
        "def get_train_test_data(data,training_rate=0.8):\n",
        "    '''\n",
        "    Extracts features and labels from the dictionary \"data,\" and splits the samples\n",
        "    into training and testing sets.\n",
        "    \n",
        "    Input:\n",
        "        data: dictionary containing two keys: {feature, Label}\n",
        "            data['features'] : vectorized features (1024 x N)\n",
        "            data['Label']   : groundtruth labels (1 x N)\n",
        "        rate: ratio of the # of training samples to the total # of samples\n",
        "        \n",
        "    Output:\n",
        "        training and testing sets.\n",
        "            \n",
        "    '''\n",
        "\n",
        "    Label = data['Label']\n",
        "    Label = np.squeeze(np.array(Label))\n",
        "    training_size = int(training_rate * len(Label))\n",
        "\n",
        "    perm = np.random.permutation(len(Label))\n",
        "    training_idx = perm[:training_size]\n",
        "    testing_idx = perm[training_size:]\n",
        "\n",
        "    train_labels = Label[training_idx]\n",
        "    test_labels = Label[testing_idx]\n",
        "\n",
        "\n",
        "    I_test = []\n",
        "    I_train = []\n",
        "    img = data['features']\n",
        "    training_img = img[:,training_idx]\n",
        "    testing_img = img[:,testing_idx]\n",
        "\n",
        "    for i in range(training_img.shape[1]):\n",
        "        temp = np.reshape(training_img[:, i], [32, 32])\n",
        "        I_train.append(temp)\n",
        "    Img_train = np.transpose(np.array(I_train), [0, 2, 1])\n",
        "    Img_train = np.expand_dims(Img_train[:], 3)\n",
        "\n",
        "    for i in range(testing_img.shape[1]):\n",
        "        temp = np.reshape(testing_img[:, i], [32, 32])\n",
        "        I_test.append(temp)\n",
        "    Img_test = np.transpose(np.array(I_test), [0, 2, 1])\n",
        "    Img_test = np.expand_dims(Img_test[:], 3)\n",
        "\n",
        "    return Img_train,Img_test,train_labels,test_labels,Label\n"
      ],
      "execution_count": 0,
      "outputs": []
    },
    {
      "cell_type": "code",
      "metadata": {
        "id": "z13paEwdgkkj",
        "colab_type": "code",
        "outputId": "3032f8ef-49e3-4872-a840-6a96896d4ecd",
        "colab": {
          "base_uri": "https://localhost:8080/",
          "height": 425
        }
      },
      "source": [
        "# if __name__ == '__main__':\n",
        "    random.seed(2019)\n",
        "    parser = argparse.ArgumentParser(description='')\n",
        "    parser.add_argument('--mat', dest='mat', default='umd', help='path of the dataset')\n",
        "    parser.add_argument('--model', dest='model', default='umd',\n",
        "                        help='name of the model to be saved')\n",
        "    parser.add_argument('--rate', dest='rate', type=float, default=0.8, help='Pecentage of samples ')\n",
        "    parser.add_argument('--epoch', dest='max_step', type=int, default=10000, help='Max # training epochs')\n",
        "    parser.add_argument('--pretrain_step', dest='pretrain_step', type=int, default=1000, help='Max # of pretraining epochs ')\n",
        "    parser.add_argument('--display_step', dest='display_step', type=int, default=1000, help='frequency of reports')\n",
        "\n",
        "    parser.add_argument('-f')\n",
        "    args = parser.parse_args()\n",
        "\n",
        "    # load face images and labels\n",
        "    datapath =  args.mat + '.mat'\n",
        "    data = sio.loadmat(datapath) \n",
        "\n",
        "    # Split the data into training and testing sets\n",
        "    [Im_train,Im_test,train_labels,test_labels,Label] = get_train_test_data(data,training_rate=args.rate)\n",
        "    \n",
        "    # face image clustering\n",
        "    n_input = [32, 32]\n",
        "    kernel_size = [5,3,3,1]\n",
        "    n_hidden = [10, 20, 30,30]\n",
        "\n",
        "    iter_loop = 0\n",
        "    \n",
        "    num_class = Label.max()\n",
        "    batch_size = len(Label)\n",
        "    training_size = len(train_labels)\n",
        "\n",
        "    # These regularization values work best if the features are intensity values between 0-225\n",
        "    reg1 = 1.0  # random.uniform(1, 10)\n",
        "    reg2 = 8.0 # random.uniform(1, 10)\n",
        "\n",
        "    model_path = './models/' + args.model + '.ckpt'\n",
        "    logs_path = './logs'\n",
        "    tf.reset_default_graph()\n",
        "    CAE = ConvAE(n_input=n_input, n_hidden=n_hidden, reg_constant1=reg1, re_constant2=reg2, \\\n",
        "                 kernel_size=kernel_size, batch_size=batch_size, train_size=training_size,model_path=model_path, restore_path=model_path,\n",
        "                 logs_path=logs_path)\n",
        "\n",
        "    ACC, C = testing(Im_test,Im_train, train_labels, test_labels, CAE, num_class,args)\n"
      ],
      "execution_count": 0,
      "outputs": [
        {
          "output_type": "error",
          "ename": "FileNotFoundError",
          "evalue": "ignored",
          "traceback": [
            "\u001b[0;31m---------------------------------------------------------------------------\u001b[0m",
            "\u001b[0;31mFileNotFoundError\u001b[0m                         Traceback (most recent call last)",
            "\u001b[0;32m/usr/local/lib/python3.6/dist-packages/scipy/io/matlab/mio.py\u001b[0m in \u001b[0;36m_open_file\u001b[0;34m(file_like, appendmat, mode)\u001b[0m\n\u001b[1;32m     38\u001b[0m     \u001b[0;32mtry\u001b[0m\u001b[0;34m:\u001b[0m\u001b[0;34m\u001b[0m\u001b[0;34m\u001b[0m\u001b[0m\n\u001b[0;32m---> 39\u001b[0;31m         \u001b[0;32mreturn\u001b[0m \u001b[0mopen\u001b[0m\u001b[0;34m(\u001b[0m\u001b[0mfile_like\u001b[0m\u001b[0;34m,\u001b[0m \u001b[0mmode\u001b[0m\u001b[0;34m)\u001b[0m\u001b[0;34m,\u001b[0m \u001b[0;32mTrue\u001b[0m\u001b[0;34m\u001b[0m\u001b[0;34m\u001b[0m\u001b[0m\n\u001b[0m\u001b[1;32m     40\u001b[0m     \u001b[0;32mexcept\u001b[0m \u001b[0mIOError\u001b[0m\u001b[0;34m:\u001b[0m\u001b[0;34m\u001b[0m\u001b[0;34m\u001b[0m\u001b[0m\n",
            "\u001b[0;31mFileNotFoundError\u001b[0m: [Errno 2] No such file or directory: 'umd.mat'",
            "\nDuring handling of the above exception, another exception occurred:\n",
            "\u001b[0;31mFileNotFoundError\u001b[0m                         Traceback (most recent call last)",
            "\u001b[0;32m<ipython-input-20-7bbc6e6fb808>\u001b[0m in \u001b[0;36m<module>\u001b[0;34m()\u001b[0m\n\u001b[1;32m     14\u001b[0m \u001b[0;31m# load face images and labels\u001b[0m\u001b[0;34m\u001b[0m\u001b[0;34m\u001b[0m\u001b[0;34m\u001b[0m\u001b[0m\n\u001b[1;32m     15\u001b[0m \u001b[0mdatapath\u001b[0m \u001b[0;34m=\u001b[0m  \u001b[0margs\u001b[0m\u001b[0;34m.\u001b[0m\u001b[0mmat\u001b[0m \u001b[0;34m+\u001b[0m \u001b[0;34m'.mat'\u001b[0m\u001b[0;34m\u001b[0m\u001b[0;34m\u001b[0m\u001b[0m\n\u001b[0;32m---> 16\u001b[0;31m \u001b[0mdata\u001b[0m \u001b[0;34m=\u001b[0m \u001b[0msio\u001b[0m\u001b[0;34m.\u001b[0m\u001b[0mloadmat\u001b[0m\u001b[0;34m(\u001b[0m\u001b[0mdatapath\u001b[0m\u001b[0;34m)\u001b[0m\u001b[0;34m\u001b[0m\u001b[0;34m\u001b[0m\u001b[0m\n\u001b[0m\u001b[1;32m     17\u001b[0m \u001b[0;34m\u001b[0m\u001b[0m\n\u001b[1;32m     18\u001b[0m \u001b[0;31m# Split the data into training and testing sets\u001b[0m\u001b[0;34m\u001b[0m\u001b[0;34m\u001b[0m\u001b[0;34m\u001b[0m\u001b[0m\n",
            "\u001b[0;32m/usr/local/lib/python3.6/dist-packages/scipy/io/matlab/mio.py\u001b[0m in \u001b[0;36mloadmat\u001b[0;34m(file_name, mdict, appendmat, **kwargs)\u001b[0m\n\u001b[1;32m    214\u001b[0m     \"\"\"\n\u001b[1;32m    215\u001b[0m     \u001b[0mvariable_names\u001b[0m \u001b[0;34m=\u001b[0m \u001b[0mkwargs\u001b[0m\u001b[0;34m.\u001b[0m\u001b[0mpop\u001b[0m\u001b[0;34m(\u001b[0m\u001b[0;34m'variable_names'\u001b[0m\u001b[0;34m,\u001b[0m \u001b[0;32mNone\u001b[0m\u001b[0;34m)\u001b[0m\u001b[0;34m\u001b[0m\u001b[0;34m\u001b[0m\u001b[0m\n\u001b[0;32m--> 216\u001b[0;31m     \u001b[0;32mwith\u001b[0m \u001b[0m_open_file_context\u001b[0m\u001b[0;34m(\u001b[0m\u001b[0mfile_name\u001b[0m\u001b[0;34m,\u001b[0m \u001b[0mappendmat\u001b[0m\u001b[0;34m)\u001b[0m \u001b[0;32mas\u001b[0m \u001b[0mf\u001b[0m\u001b[0;34m:\u001b[0m\u001b[0;34m\u001b[0m\u001b[0;34m\u001b[0m\u001b[0m\n\u001b[0m\u001b[1;32m    217\u001b[0m         \u001b[0mMR\u001b[0m\u001b[0;34m,\u001b[0m \u001b[0m_\u001b[0m \u001b[0;34m=\u001b[0m \u001b[0mmat_reader_factory\u001b[0m\u001b[0;34m(\u001b[0m\u001b[0mf\u001b[0m\u001b[0;34m,\u001b[0m \u001b[0;34m**\u001b[0m\u001b[0mkwargs\u001b[0m\u001b[0;34m)\u001b[0m\u001b[0;34m\u001b[0m\u001b[0;34m\u001b[0m\u001b[0m\n\u001b[1;32m    218\u001b[0m         \u001b[0mmatfile_dict\u001b[0m \u001b[0;34m=\u001b[0m \u001b[0mMR\u001b[0m\u001b[0;34m.\u001b[0m\u001b[0mget_variables\u001b[0m\u001b[0;34m(\u001b[0m\u001b[0mvariable_names\u001b[0m\u001b[0;34m)\u001b[0m\u001b[0;34m\u001b[0m\u001b[0;34m\u001b[0m\u001b[0m\n",
            "\u001b[0;32m/usr/lib/python3.6/contextlib.py\u001b[0m in \u001b[0;36m__enter__\u001b[0;34m(self)\u001b[0m\n\u001b[1;32m     79\u001b[0m     \u001b[0;32mdef\u001b[0m \u001b[0m__enter__\u001b[0m\u001b[0;34m(\u001b[0m\u001b[0mself\u001b[0m\u001b[0;34m)\u001b[0m\u001b[0;34m:\u001b[0m\u001b[0;34m\u001b[0m\u001b[0;34m\u001b[0m\u001b[0m\n\u001b[1;32m     80\u001b[0m         \u001b[0;32mtry\u001b[0m\u001b[0;34m:\u001b[0m\u001b[0;34m\u001b[0m\u001b[0;34m\u001b[0m\u001b[0m\n\u001b[0;32m---> 81\u001b[0;31m             \u001b[0;32mreturn\u001b[0m \u001b[0mnext\u001b[0m\u001b[0;34m(\u001b[0m\u001b[0mself\u001b[0m\u001b[0;34m.\u001b[0m\u001b[0mgen\u001b[0m\u001b[0;34m)\u001b[0m\u001b[0;34m\u001b[0m\u001b[0;34m\u001b[0m\u001b[0m\n\u001b[0m\u001b[1;32m     82\u001b[0m         \u001b[0;32mexcept\u001b[0m \u001b[0mStopIteration\u001b[0m\u001b[0;34m:\u001b[0m\u001b[0;34m\u001b[0m\u001b[0;34m\u001b[0m\u001b[0m\n\u001b[1;32m     83\u001b[0m             \u001b[0;32mraise\u001b[0m \u001b[0mRuntimeError\u001b[0m\u001b[0;34m(\u001b[0m\u001b[0;34m\"generator didn't yield\"\u001b[0m\u001b[0;34m)\u001b[0m \u001b[0;32mfrom\u001b[0m \u001b[0;32mNone\u001b[0m\u001b[0;34m\u001b[0m\u001b[0;34m\u001b[0m\u001b[0m\n",
            "\u001b[0;32m/usr/local/lib/python3.6/dist-packages/scipy/io/matlab/mio.py\u001b[0m in \u001b[0;36m_open_file_context\u001b[0;34m(file_like, appendmat, mode)\u001b[0m\n\u001b[1;32m     17\u001b[0m \u001b[0;34m@\u001b[0m\u001b[0mcontextmanager\u001b[0m\u001b[0;34m\u001b[0m\u001b[0;34m\u001b[0m\u001b[0m\n\u001b[1;32m     18\u001b[0m \u001b[0;32mdef\u001b[0m \u001b[0m_open_file_context\u001b[0m\u001b[0;34m(\u001b[0m\u001b[0mfile_like\u001b[0m\u001b[0;34m,\u001b[0m \u001b[0mappendmat\u001b[0m\u001b[0;34m,\u001b[0m \u001b[0mmode\u001b[0m\u001b[0;34m=\u001b[0m\u001b[0;34m'rb'\u001b[0m\u001b[0;34m)\u001b[0m\u001b[0;34m:\u001b[0m\u001b[0;34m\u001b[0m\u001b[0;34m\u001b[0m\u001b[0m\n\u001b[0;32m---> 19\u001b[0;31m     \u001b[0mf\u001b[0m\u001b[0;34m,\u001b[0m \u001b[0mopened\u001b[0m \u001b[0;34m=\u001b[0m \u001b[0m_open_file\u001b[0m\u001b[0;34m(\u001b[0m\u001b[0mfile_like\u001b[0m\u001b[0;34m,\u001b[0m \u001b[0mappendmat\u001b[0m\u001b[0;34m,\u001b[0m \u001b[0mmode\u001b[0m\u001b[0;34m)\u001b[0m\u001b[0;34m\u001b[0m\u001b[0;34m\u001b[0m\u001b[0m\n\u001b[0m\u001b[1;32m     20\u001b[0m     \u001b[0;32myield\u001b[0m \u001b[0mf\u001b[0m\u001b[0;34m\u001b[0m\u001b[0;34m\u001b[0m\u001b[0m\n\u001b[1;32m     21\u001b[0m     \u001b[0;32mif\u001b[0m \u001b[0mopened\u001b[0m\u001b[0;34m:\u001b[0m\u001b[0;34m\u001b[0m\u001b[0;34m\u001b[0m\u001b[0m\n",
            "\u001b[0;32m/usr/local/lib/python3.6/dist-packages/scipy/io/matlab/mio.py\u001b[0m in \u001b[0;36m_open_file\u001b[0;34m(file_like, appendmat, mode)\u001b[0m\n\u001b[1;32m     43\u001b[0m             \u001b[0;32mif\u001b[0m \u001b[0mappendmat\u001b[0m \u001b[0;32mand\u001b[0m \u001b[0;32mnot\u001b[0m \u001b[0mfile_like\u001b[0m\u001b[0;34m.\u001b[0m\u001b[0mendswith\u001b[0m\u001b[0;34m(\u001b[0m\u001b[0;34m'.mat'\u001b[0m\u001b[0;34m)\u001b[0m\u001b[0;34m:\u001b[0m\u001b[0;34m\u001b[0m\u001b[0;34m\u001b[0m\u001b[0m\n\u001b[1;32m     44\u001b[0m                 \u001b[0mfile_like\u001b[0m \u001b[0;34m+=\u001b[0m \u001b[0;34m'.mat'\u001b[0m\u001b[0;34m\u001b[0m\u001b[0;34m\u001b[0m\u001b[0m\n\u001b[0;32m---> 45\u001b[0;31m             \u001b[0;32mreturn\u001b[0m \u001b[0mopen\u001b[0m\u001b[0;34m(\u001b[0m\u001b[0mfile_like\u001b[0m\u001b[0;34m,\u001b[0m \u001b[0mmode\u001b[0m\u001b[0;34m)\u001b[0m\u001b[0;34m,\u001b[0m \u001b[0;32mTrue\u001b[0m\u001b[0;34m\u001b[0m\u001b[0;34m\u001b[0m\u001b[0m\n\u001b[0m\u001b[1;32m     46\u001b[0m         \u001b[0;32melse\u001b[0m\u001b[0;34m:\u001b[0m\u001b[0;34m\u001b[0m\u001b[0;34m\u001b[0m\u001b[0m\n\u001b[1;32m     47\u001b[0m             \u001b[0;32mraise\u001b[0m \u001b[0mIOError\u001b[0m\u001b[0;34m(\u001b[0m\u001b[0;34m'Reader needs file name or open file-like object'\u001b[0m\u001b[0;34m)\u001b[0m\u001b[0;34m\u001b[0m\u001b[0;34m\u001b[0m\u001b[0m\n",
            "\u001b[0;31mFileNotFoundError\u001b[0m: [Errno 2] No such file or directory: 'umd.mat'"
          ]
        }
      ]
    },
    {
      "cell_type": "code",
      "metadata": {
        "id": "3jnYVI5_gklH",
        "colab_type": "code",
        "colab": {}
      },
      "source": [
        ""
      ],
      "execution_count": 0,
      "outputs": []
    }
  ]
}